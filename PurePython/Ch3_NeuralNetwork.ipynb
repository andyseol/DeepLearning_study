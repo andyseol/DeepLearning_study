{
 "cells": [
  {
   "cell_type": "markdown",
   "id": "4386ff67",
   "metadata": {},
   "source": [
    "# Ch3. Neural Network"
   ]
  },
  {
   "cell_type": "code",
   "execution_count": 1,
   "id": "849cd6d5",
   "metadata": {},
   "outputs": [],
   "source": [
    "import numpy as np\n",
    "import matplotlib.pyplot as plt"
   ]
  },
  {
   "cell_type": "markdown",
   "id": "47121869",
   "metadata": {},
   "source": [
    "## Activation function 활성화 함수\n",
    "Perceptron을 표현하는 다음 식\n",
    "\n",
    "a = b + w1x1 + w2x2 + ...\n",
    "\n",
    "y = h(a)\n",
    "\n",
    "에서 h() 부분"
   ]
  },
  {
   "cell_type": "markdown",
   "id": "5b6896ca",
   "metadata": {},
   "source": [
    "#### Step func"
   ]
  },
  {
   "cell_type": "code",
   "execution_count": 2,
   "id": "4afefd9b",
   "metadata": {},
   "outputs": [],
   "source": [
    "def step_func(x):\n",
    "    return np.array(x > 0, dtype=np.int)"
   ]
  },
  {
   "cell_type": "markdown",
   "id": "e8db1c88",
   "metadata": {},
   "source": [
    "#### Sigmoid func"
   ]
  },
  {
   "cell_type": "code",
   "execution_count": 3,
   "id": "d08cc22e",
   "metadata": {},
   "outputs": [],
   "source": [
    "def sigmoid(x):\n",
    "    return 1 / (1 + np.exp(-x))"
   ]
  },
  {
   "cell_type": "markdown",
   "id": "30cc1125",
   "metadata": {},
   "source": [
    "#### ReLU func (Rectified Linear Unit func)"
   ]
  },
  {
   "cell_type": "code",
   "execution_count": 4,
   "id": "a3eb1efd",
   "metadata": {},
   "outputs": [],
   "source": [
    "def relu(x):\n",
    "    return np.maximum(0, x)"
   ]
  },
  {
   "cell_type": "markdown",
   "id": "e39c13ba",
   "metadata": {},
   "source": [
    "#### Identity func"
   ]
  },
  {
   "cell_type": "code",
   "execution_count": 5,
   "id": "6ef9f5fd",
   "metadata": {},
   "outputs": [],
   "source": [
    "def identity_func(x):\n",
    "    return x"
   ]
  },
  {
   "cell_type": "markdown",
   "id": "b5ae94ed",
   "metadata": {},
   "source": [
    "## 3층 신경망 구현\n",
    "- 0층: 입력층. 뉴런 2개\n",
    "- 1층: 제1은닉층. 뉴런 3개\n",
    "- 2층: 제2은닉층. 뉴런 2개\n",
    "- 3층: 출력층. 뉴런 2개"
   ]
  },
  {
   "cell_type": "code",
   "execution_count": 6,
   "id": "33e1cff7",
   "metadata": {},
   "outputs": [],
   "source": [
    "def init_network():\n",
    "    network = {}\n",
    "    network['W1'] = np.array([[0.1, 0.3, 0.5], [0.2, 0.4, 0.6]])\n",
    "    network['b1'] = np.array([0.1, 0.2, 0.3])\n",
    "    network['W2'] = np.array([[0.1, 0.4], [0.2, 0.5], [0.3, 0.6]])\n",
    "    network['b2'] = np.array([0.1, 0.2])\n",
    "    network['W3'] = np.array([[0.1, 0.3], [0.2, 0.4]])\n",
    "    network['b3'] = np.array([0.1, 0.2])\n",
    "    \n",
    "    return network\n",
    "\n",
    "def forward(network, x):\n",
    "    W1, W2, W3 = network['W1'], network['W2'], network['W3']\n",
    "    b1, b2, b3 = network['b1'], network['b2'], network['b3']\n",
    "    \n",
    "    a1 = np.dot(x, W1) + b1\n",
    "    z1 = sigmoid(a1)\n",
    "    a2 = np.dot(z1, W2) + b2\n",
    "    z2 = sigmoid(a2)\n",
    "    a3 = np.dot(z2, W3) + b3\n",
    "    y = identity_func(a3)\n",
    "    \n",
    "    return y"
   ]
  },
  {
   "cell_type": "code",
   "execution_count": 7,
   "id": "b540d927",
   "metadata": {},
   "outputs": [
    {
     "name": "stdout",
     "output_type": "stream",
     "text": [
      "[0.31682708 0.69627909]\n"
     ]
    }
   ],
   "source": [
    "network = init_network()\n",
    "x = np.array([1.0, 0.5])\n",
    "y = forward(network, x)\n",
    "print(y)"
   ]
  },
  {
   "cell_type": "markdown",
   "id": "1909fa45",
   "metadata": {},
   "source": [
    "## 출력층 설계\n",
    "#### Softmax func"
   ]
  },
  {
   "cell_type": "code",
   "execution_count": 8,
   "id": "9f81907e",
   "metadata": {},
   "outputs": [],
   "source": [
    "def softmax(a):\n",
    "    c = np.max(a)\n",
    "    exp_a = np.exp(a - c)    # 오버플로우 대책\n",
    "    sum_exp_a = np.sum(exp_a)\n",
    "    y = exp_a / sum_exp_a\n",
    "    \n",
    "    return y"
   ]
  },
  {
   "cell_type": "code",
   "execution_count": null,
   "id": "83e17da8",
   "metadata": {},
   "outputs": [],
   "source": []
  }
 ],
 "metadata": {
  "kernelspec": {
   "display_name": "Python 3",
   "language": "python",
   "name": "python3"
  },
  "language_info": {
   "codemirror_mode": {
    "name": "ipython",
    "version": 3
   },
   "file_extension": ".py",
   "mimetype": "text/x-python",
   "name": "python",
   "nbconvert_exporter": "python",
   "pygments_lexer": "ipython3",
   "version": "3.8.8"
  }
 },
 "nbformat": 4,
 "nbformat_minor": 5
}
