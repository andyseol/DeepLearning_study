{
 "cells": [
  {
   "cell_type": "markdown",
   "id": "0c0248a9",
   "metadata": {},
   "source": [
    "# Simple Liner Regression"
   ]
  },
  {
   "cell_type": "code",
   "execution_count": 1,
   "id": "8db51cf3",
   "metadata": {},
   "outputs": [],
   "source": [
    "import numpy as np\n",
    "import pandas as pd\n",
    "import matplotlib.pyplot as plt\n",
    "\n",
    "from sklearn import linear_model\n",
    "import tensorflow as tf"
   ]
  },
  {
   "cell_type": "code",
   "execution_count": 2,
   "id": "76f23458",
   "metadata": {},
   "outputs": [
    {
     "data": {
      "text/plain": [
       "[<matplotlib.lines.Line2D at 0x1f73217f700>]"
      ]
     },
     "execution_count": 2,
     "metadata": {},
     "output_type": "execute_result"
    },
    {
     "data": {
      "image/png": "[encoded data removed]",
      "text/plain": [
       "<Figure size 432x288 with 1 Axes>"
      ]
     },
     "metadata": {
      "needs_background": "light"
     },
     "output_type": "display_data"
    }
   ],
   "source": [
    "# y = 2x + 1\n",
    "x_data = [1, 2, 3, 4, 5, 6, 7]\n",
    "y_data = [3, 5, 7, 9, 11, 13 ,15]\n",
    "plt.plot(x_data, y_data, 'o')"
   ]
  },
  {
   "cell_type": "markdown",
   "id": "26936ebb",
   "metadata": {},
   "source": [
    "## 1. scikit-learn"
   ]
  },
  {
   "cell_type": "code",
   "execution_count": 3,
   "id": "5c0c69f5",
   "metadata": {},
   "outputs": [],
   "source": [
    "x_train = x_data[:5]\n",
    "y_train = y_data[:5]\n",
    "x_test = x_data[5:]\n",
    "y_test = y_data[5:]\n",
    "\n",
    "x_train = np.array(x_train).reshape(-1, 1)\n",
    "x_test = np.array(x_test).reshape(-1, 1)"
   ]
  },
  {
   "cell_type": "code",
   "execution_count": 4,
   "id": "7c406cec",
   "metadata": {},
   "outputs": [
    {
     "data": {
      "text/plain": [
       "LinearRegression()"
      ]
     },
     "execution_count": 4,
     "metadata": {},
     "output_type": "execute_result"
    }
   ],
   "source": [
    "reg = linear_model.LinearRegression()\n",
    "reg.fit(x_train, y_train)"
   ]
  },
  {
   "cell_type": "code",
   "execution_count": 5,
   "id": "651b3bb1",
   "metadata": {
    "scrolled": true
   },
   "outputs": [
    {
     "name": "stdout",
     "output_type": "stream",
     "text": [
      "[2.]\n",
      "0.9999999999999982\n",
      "1.0\n"
     ]
    }
   ],
   "source": [
    "print(reg.coef_)\n",
    "print(reg.intercept_)\n",
    "print(reg.score(x_train, y_train))"
   ]
  },
  {
   "cell_type": "code",
   "execution_count": 6,
   "id": "7ffc657f",
   "metadata": {},
   "outputs": [
    {
     "data": {
      "text/plain": [
       "array([13., 15.])"
      ]
     },
     "execution_count": 6,
     "metadata": {},
     "output_type": "execute_result"
    }
   ],
   "source": [
    "reg.predict(x_test)"
   ]
  },
  {
   "cell_type": "code",
   "execution_count": null,
   "id": "6e5f8e5e",
   "metadata": {},
   "outputs": [],
   "source": []
  },
  {
   "cell_type": "markdown",
   "id": "afc34316",
   "metadata": {},
   "source": [
    "## 2. TensorFlow"
   ]
  },
  {
   "cell_type": "code",
   "execution_count": 7,
   "id": "48b42430",
   "metadata": {},
   "outputs": [],
   "source": [
    "# initialize W, b\n",
    "W = tf.Variable(3.0)\n",
    "b = tf.Variable(3.0)\n",
    "\n",
    "# set hypothesis and define cost func.\n",
    "hypothesis = W * x_train + b\n",
    "cost = tf.reduce_mean(tf.square(hypothesis - y_train))"
   ]
  },
  {
   "cell_type": "code",
   "execution_count": 8,
   "id": "933928ed",
   "metadata": {},
   "outputs": [],
   "source": [
    "learning_rate = 0.01"
   ]
  },
  {
   "cell_type": "code",
   "execution_count": 9,
   "id": "15a208de",
   "metadata": {},
   "outputs": [
    {
     "name": "stdout",
     "output_type": "stream",
     "text": [
      "    0    |    2.5800    |    2.9000    | 51.000000\n",
      "   10    |    1.2875    |    2.7023    | 11.601850\n",
      "   20    |    1.1635    |    2.8230    | 11.200728\n",
      "   30    |    1.1193    |    2.9605    | 10.990364\n",
      "   40    |    1.0817    |    3.0950    | 10.794520\n",
      "   50    |    1.0456    |    3.2250    | 10.611504\n",
      "   60    |    1.0108    |    3.3507    | 10.440475\n",
      "   70    |    0.9771    |    3.4722    | 10.280645\n",
      "   80    |    0.9446    |    3.5897    | 10.131284\n",
      "   90    |    0.9131    |    3.7033    |  9.991705\n"
     ]
    }
   ],
   "source": [
    "# update W, b\n",
    "for i in range(100):\n",
    "    # Gradient descent\n",
    "    with tf.GradientTape() as tape:\n",
    "        hypothesis = W * x_train + b\n",
    "        cost = tf.reduce_mean(tf.square(hypothesis - y_train))\n",
    "    W_grad, b_grad = tape.gradient(cost, [W, b])    # d(cost)/dW, d(cost)/db\n",
    "    W.assign_sub(learning_rate * W_grad)    # W = learning_rate * W_grad\n",
    "    b.assign_sub(learning_rate * b_grad)    # b = learning_rate * b_grad\n",
    "    if i % 10 == 0:\n",
    "        print(\"{:5}    |{:10.4f}    |{:10.4f}    |{:10.6f}\".format(i, W.numpy(), b.numpy(), cost))"
   ]
  },
  {
   "cell_type": "code",
   "execution_count": 10,
   "id": "45979a47",
   "metadata": {},
   "outputs": [
    {
     "data": {
      "text/plain": [
       "[<matplotlib.lines.Line2D at 0x1f732991f70>]"
      ]
     },
     "execution_count": 10,
     "metadata": {},
     "output_type": "execute_result"
    },
    {
     "data": {
      "image/png": "[encoded data removed]",
      "text/plain": [
       "<Figure size 432x288 with 1 Axes>"
      ]
     },
     "metadata": {
      "needs_background": "light"
     },
     "output_type": "display_data"
    }
   ],
   "source": [
    "plt.plot(x_train, y_train, 'o')\n",
    "plt.plot(x_train, hypothesis.numpy(), 'r-')"
   ]
  },
  {
   "cell_type": "markdown",
   "id": "fcbd9236",
   "metadata": {},
   "source": [
    "### Discussion\n",
    "- What I want is W=2, b=1 (for y = 2x + 1)\n",
    "- but, the results varies with respect to the initial values of W, b, learning rate"
   ]
  },
  {
   "cell_type": "code",
   "execution_count": null,
   "id": "aea68330",
   "metadata": {},
   "outputs": [],
   "source": []
  },
  {
   "cell_type": "markdown",
   "id": "8ae7b35f",
   "metadata": {},
   "source": [
    "### 2.1. Gradient descent (pure Python)"
   ]
  },
  {
   "cell_type": "code",
   "execution_count": 11,
   "id": "e96e7dde",
   "metadata": {},
   "outputs": [
    {
     "name": "stdout",
     "output_type": "stream",
     "text": [
      " -5.00    |    539.00\n",
      " -4.00    |    396.00\n",
      " -3.00    |    275.00\n",
      " -2.00    |    176.00\n",
      " -1.00    |     99.00\n",
      "  0.00    |     44.00\n",
      "  1.00    |     11.00\n",
      "  2.00    |      0.00\n",
      "  3.00    |     11.00\n",
      "  4.00    |     44.00\n",
      "  5.00    |     99.00\n"
     ]
    }
   ],
   "source": [
    "def cost_func(W, X, Y, b):\n",
    "    cost = 0\n",
    "    for i in range(len(X)):\n",
    "        cost += (W * X[i] + b - Y[i]) ** 2\n",
    "    return cost / len(X)\n",
    "\n",
    "b = 1\n",
    "for feed_W in np.linspace(-5, 5, 11):\n",
    "    curr_cost = cost_func(feed_W, x_train, y_train, b)\n",
    "    print(\"{:6.2f}    |{:10.2f}\".format(feed_W, np.float64(curr_cost)))"
   ]
  },
  {
   "cell_type": "code",
   "execution_count": null,
   "id": "3722f438",
   "metadata": {},
   "outputs": [],
   "source": []
  },
  {
   "cell_type": "markdown",
   "id": "d49e94d9",
   "metadata": {},
   "source": [
    "### 2.2. Gradient descent (TensorFlow)"
   ]
  },
  {
   "cell_type": "code",
   "execution_count": 12,
   "id": "f4ecf1a8",
   "metadata": {},
   "outputs": [
    {
     "name": "stdout",
     "output_type": "stream",
     "text": [
      "    0 | 27230.1621 |  45.694572\n",
      "   10 |  2788.5532 |  15.562157\n",
      "   20 |   324.9137 |   6.166352\n",
      "   30 |    58.1891 |   3.236578\n",
      "   40 |    23.7787 |   2.323025\n",
      "   50 |    17.7898 |   2.038163\n",
      "   60 |    16.3833 |   1.949338\n",
      "   70 |    15.9896 |   1.921641\n",
      "   80 |    15.8712 |   1.913004\n",
      "   90 |    15.8347 |   1.910311\n",
      "  100 |    15.8233 |   1.909471\n",
      "  110 |    15.8198 |   1.909210\n",
      "  120 |    15.8187 |   1.909128\n",
      "  130 |    15.8183 |   1.909102\n",
      "  140 |    15.8182 |   1.909094\n"
     ]
    }
   ],
   "source": [
    "tf.random.set_seed(0) # for reproducibility\n",
    "W = tf.Variable(tf.random.normal([1], -100., 100.))\n",
    "for step in range(150):\n",
    "    hypothesis = W * x_train + 2\n",
    "    cost = tf.reduce_mean(tf.square(hypothesis - y_train))\n",
    "    alpha = 0.01\n",
    "    gradient = tf.reduce_mean(tf.multiply(tf.multiply(W, x_train) - y_train, x_train))\n",
    "    descent = W - tf.multiply(alpha, gradient)\n",
    "    W.assign(descent)\n",
    "    if step % 10 == 0:\n",
    "        print('{:5} | {:10.4f} | {:10.6f}'.format(step, cost.numpy(), W.numpy()[0]))"
   ]
  },
  {
   "cell_type": "code",
   "execution_count": null,
   "id": "297235ea",
   "metadata": {},
   "outputs": [],
   "source": []
  }
 ],
 "metadata": {
  "kernelspec": {
   "display_name": "Python 3",
   "language": "python",
   "name": "python3"
  },
  "language_info": {
   "codemirror_mode": {
    "name": "ipython",
    "version": 3
   },
   "file_extension": ".py",
   "mimetype": "text/x-python",
   "name": "python",
   "nbconvert_exporter": "python",
   "pygments_lexer": "ipython3",
   "version": "3.8.8"
  }
 },
 "nbformat": 4,
 "nbformat_minor": 5
}
